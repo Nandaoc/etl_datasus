{
 "cells": [
  {
   "cell_type": "markdown",
   "id": "2f1d41f2-b604-4a10-94c2-10251f52ab17",
   "metadata": {},
   "source": [
    "# ETL DataSUS"
   ]
  },
  {
   "cell_type": "markdown",
   "id": "e59851fe-0ce2-457e-8b67-d5769fe1a559",
   "metadata": {},
   "source": [
    "## Importação de bibliotecas"
   ]
  },
  {
   "cell_type": "code",
   "execution_count": 65,
   "id": "5fcfa7f6-a723-4075-849b-c3aff244aa2c",
   "metadata": {},
   "outputs": [],
   "source": [
    "from pysus.ftp.databases.cnes import CNES\n",
    "import psycopg2\n",
    "from sqlalchemy import create_engine\n",
    "import time\n",
    "import os\n",
    "import shutil"
   ]
  },
  {
   "cell_type": "markdown",
   "id": "cebfcf08-6c84-44ea-aad9-e802719a1cd5",
   "metadata": {},
   "source": [
    "## Extração dos Dados e conversão para DataFrame"
   ]
  },
  {
   "cell_type": "code",
   "execution_count": 2,
   "id": "2c1a1357-ca0b-4445-b19a-9213daf75f8c",
   "metadata": {},
   "outputs": [],
   "source": [
    "cnes = CNES()"
   ]
  },
  {
   "cell_type": "code",
   "execution_count": 4,
   "id": "27416828-fe31-4bd5-a390-72336c180723",
   "metadata": {},
   "outputs": [],
   "source": [
    "def extracao_cnes_leitos(uf, ano, mes=[1,2,3,4,5,6,7,8,9,10,11,12]):\n",
    "    arquivos = cnes.get_files('LT', uf=uf, year=ano, month=mes)\n",
    "\n",
    "    return arquivos"
   ]
  },
  {
   "cell_type": "code",
   "execution_count": 5,
   "id": "01e11f59-3ca8-4fad-acd1-57196b8caafd",
   "metadata": {},
   "outputs": [],
   "source": [
    "def geracao_nomes_dataframes(arquivos):\n",
    "    nomes = [cnes.describe(arquivo)['name'].split('.')[0] for arquivo in arquivos]\n",
    "    \n",
    "    return nomes"
   ]
  },
  {
   "cell_type": "code",
   "execution_count": 6,
   "id": "fdb5d877-7209-4d59-a933-7679ec495287",
   "metadata": {},
   "outputs": [],
   "source": [
    "def download_cnes_leitos(arquivos):\n",
    "    arquivos_parquet = cnes.download(arquivos)\n",
    "\n",
    "    return arquivos_parquet"
   ]
  },
  {
   "cell_type": "code",
   "execution_count": 64,
   "id": "d22bf288-d0d1-43ff-a281-77051919bdf4",
   "metadata": {},
   "outputs": [],
   "source": [
    "def remove_arquivos():\n",
    "    diretorio_pysus = '/home/nandaoc/pysus/'\n",
    "    diretorios_parquet = os.listdir(diretorio_pysus)\n",
    "\n",
    "    for diretorio in diretorios_parquet:\n",
    "        caminho_diretorio = os.path.join(diretorio_pysus, diretorio)\n",
    "        if os.path.isdir(caminho_diretorio) and diretorio.endswith('.parquet'):\n",
    "            shutil.rmtree(caminho_diretorio)\n",
    "            print(f'O diretório {diretorio} foi excluído com sucesso.')"
   ]
  },
  {
   "cell_type": "code",
   "execution_count": 80,
   "id": "958d27d4-1014-4b87-874a-269d105a9c72",
   "metadata": {},
   "outputs": [],
   "source": [
    "def parquet_para_dataframe(arquivos_parquet, nomes_arquivos):\n",
    "    dataframes = []\n",
    "    i = 0\n",
    "    \n",
    "    for arquivo in arquivos_parquet:\n",
    "        dataframe = {}\n",
    "        nome_dataframe = f'{nomes_arquivos[i]}'\n",
    "        dataframe[nome_dataframe] = arquivo.to_dataframe()\n",
    "        dataframes.append(dataframe)\n",
    "        i += 1\n",
    "\n",
    "    return dataframes"
   ]
  },
  {
   "cell_type": "markdown",
   "id": "c3d99d8d-0c95-45ea-b015-3eb5e1214849",
   "metadata": {},
   "source": [
    "## Persistência dos dados em staging"
   ]
  },
  {
   "cell_type": "code",
   "execution_count": 87,
   "id": "88a9ebfb-98c4-48d4-974b-dcb7c7a28f8d",
   "metadata": {},
   "outputs": [],
   "source": [
    "def concexao_bancopg(host, porta, banco, usuario, senha):\n",
    "    return f'postgresql://{usuario}:{senha}@{host}:{porta}/{banco}'"
   ]
  },
  {
   "cell_type": "code",
   "execution_count": 1,
   "id": "f139fa18-238f-47b3-a559-58d53041aa14",
   "metadata": {},
   "outputs": [],
   "source": [
    "def insercao_dados(tabela, conexao, dataframes):\n",
    "    i = 0\n",
    "    engine = create_engine(conexao)\n",
    "    \n",
    "    for dicionario_df in dataframes:\n",
    "        chave = nomes[i]\n",
    "        df = dicionario_df[chave]\n",
    "        df = df.astype('object')\n",
    "        df.columns = df.columns.str.lower()\n",
    "        df.to_sql(tabela, engine, if_exists='append', index=False)\n",
    "        i += 1\n",
    "    \n",
    "    print('Dados persistidos no banco com sucesso.')\n",
    "    print('Limpando diretório...')\n",
    "    time.sleep(3)\n",
    "    remove_arquivos()    "
   ]
  },
  {
   "cell_type": "code",
   "execution_count": null,
   "id": "4b0939c3-a7cb-405b-aa26-8acb0f512ad3",
   "metadata": {},
   "outputs": [],
   "source": []
  }
 ],
 "metadata": {
  "kernelspec": {
   "display_name": "Python 3 (ipykernel)",
   "language": "python",
   "name": "python3"
  },
  "language_info": {
   "codemirror_mode": {
    "name": "ipython",
    "version": 3
   },
   "file_extension": ".py",
   "mimetype": "text/x-python",
   "name": "python",
   "nbconvert_exporter": "python",
   "pygments_lexer": "ipython3",
   "version": "3.11.7"
  }
 },
 "nbformat": 4,
 "nbformat_minor": 5
}
