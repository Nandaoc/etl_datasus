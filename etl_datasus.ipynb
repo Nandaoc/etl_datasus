{
 "cells": [
  {
   "cell_type": "markdown",
   "id": "59a82c22-10d2-4991-941d-66fa9cb8e9df",
   "metadata": {},
   "source": [
    "# ETL DataSUS"
   ]
  },
  {
   "cell_type": "markdown",
   "id": "cc9322e9-a02b-432f-93cb-b0f4e2e4daac",
   "metadata": {},
   "source": [
    "## Instalação e configuração das bibliotecas\n",
    "\n",
    "Referências:\n",
    "- biblioteca pyreaddbc: https://pypi.org/project/pyreaddbc/\n",
    "- biblioteca dbfread: https://pypi.org/project/dbfread/\n",
    "- repositório pyreaddbc issues: https://github.com/osl-incubator/pyreaddbc/issues/19 "
   ]
  },
  {
   "cell_type": "code",
   "execution_count": 146,
   "id": "f3acc648-8b4a-4ecc-98d4-11c9792a58e4",
   "metadata": {},
   "outputs": [
    {
     "name": "stdout",
     "output_type": "stream",
     "text": [
      "Defaulting to user installation because normal site-packages is not writeable\n",
      "Collecting selenium\n",
      "  Downloading selenium-4.21.0-py3-none-any.whl (9.5 MB)\n",
      "\u001b[2K     \u001b[38;2;114;156;31m━━━━━━━━━━━━━━━━━━━━━━━━━━━━━━━━━━━━━━━━\u001b[0m \u001b[32m9.5/9.5 MB\u001b[0m \u001b[31m5.6 MB/s\u001b[0m eta \u001b[36m0:00:00\u001b[0mm eta \u001b[36m0:00:01\u001b[0m[36m0:00:01\u001b[0m\n",
      "\u001b[?25hCollecting trio~=0.17\n",
      "  Downloading trio-0.25.1-py3-none-any.whl (467 kB)\n",
      "\u001b[2K     \u001b[38;2;114;156;31m━━━━━━━━━━━━━━━━━━━━━━━━━━━━━━━━━━━━━━\u001b[0m \u001b[32m467.7/467.7 KB\u001b[0m \u001b[31m10.3 MB/s\u001b[0m eta \u001b[36m0:00:00\u001b[0m[36m0:00:01\u001b[0m\n",
      "\u001b[?25hRequirement already satisfied: urllib3[socks]<3,>=1.26 in /usr/lib/python3/dist-packages (from selenium) (1.26.5)\n",
      "Collecting trio-websocket~=0.9\n",
      "  Downloading trio_websocket-0.11.1-py3-none-any.whl (17 kB)\n",
      "Requirement already satisfied: typing_extensions>=4.9.0 in /home/nandaoc/.local/lib/python3.10/site-packages (from selenium) (4.11.0)\n",
      "Collecting certifi>=2021.10.8\n",
      "  Downloading certifi-2024.2.2-py3-none-any.whl (163 kB)\n",
      "\u001b[2K     \u001b[38;2;114;156;31m━━━━━━━━━━━━━━━━━━━━━━━━━━━━━━━━━━━━━━\u001b[0m \u001b[32m163.8/163.8 KB\u001b[0m \u001b[31m15.5 MB/s\u001b[0m eta \u001b[36m0:00:00\u001b[0m\n",
      "\u001b[?25hCollecting attrs>=23.2.0\n",
      "  Downloading attrs-23.2.0-py3-none-any.whl (60 kB)\n",
      "\u001b[2K     \u001b[38;2;114;156;31m━━━━━━━━━━━━━━━━━━━━━━━━━━━━━━━━━━━━━━━━\u001b[0m \u001b[32m60.8/60.8 KB\u001b[0m \u001b[31m13.5 MB/s\u001b[0m eta \u001b[36m0:00:00\u001b[0m\n",
      "\u001b[?25hCollecting sniffio>=1.3.0\n",
      "  Downloading sniffio-1.3.1-py3-none-any.whl (10 kB)\n",
      "Collecting sortedcontainers\n",
      "  Downloading sortedcontainers-2.4.0-py2.py3-none-any.whl (29 kB)\n",
      "Requirement already satisfied: exceptiongroup in /home/nandaoc/.local/lib/python3.10/site-packages (from trio~=0.17->selenium) (1.2.1)\n",
      "Collecting outcome\n",
      "  Downloading outcome-1.3.0.post0-py2.py3-none-any.whl (10 kB)\n",
      "Requirement already satisfied: idna in /usr/lib/python3/dist-packages (from trio~=0.17->selenium) (3.3)\n",
      "Collecting wsproto>=0.14\n",
      "  Downloading wsproto-1.2.0-py3-none-any.whl (24 kB)\n",
      "Collecting PySocks!=1.5.7,<2.0,>=1.5.6\n",
      "  Downloading PySocks-1.7.1-py3-none-any.whl (16 kB)\n",
      "Collecting h11<1,>=0.9.0\n",
      "  Downloading h11-0.14.0-py3-none-any.whl (58 kB)\n",
      "\u001b[2K     \u001b[38;2;114;156;31m━━━━━━━━━━━━━━━━━━━━━━━━━━━━━━━━━━━━━━━━\u001b[0m \u001b[32m58.3/58.3 KB\u001b[0m \u001b[31m12.0 MB/s\u001b[0m eta \u001b[36m0:00:00\u001b[0m\n",
      "\u001b[?25hInstalling collected packages: sortedcontainers, sniffio, PySocks, h11, certifi, attrs, wsproto, outcome, trio, trio-websocket, selenium\n",
      "Successfully installed PySocks-1.7.1 attrs-23.2.0 certifi-2024.2.2 h11-0.14.0 outcome-1.3.0.post0 selenium-4.21.0 sniffio-1.3.1 sortedcontainers-2.4.0 trio-0.25.1 trio-websocket-0.11.1 wsproto-1.2.0\n",
      "Note: you may need to restart the kernel to use updated packages.\n"
     ]
    }
   ],
   "source": [
    "pip install selenium"
   ]
  },
  {
   "cell_type": "code",
   "execution_count": 1,
   "id": "d3ac6e10-e90f-4d90-ab59-d9e871882ef9",
   "metadata": {},
   "outputs": [
    {
     "name": "stdout",
     "output_type": "stream",
     "text": [
      "Collecting cffi\n",
      "  Using cached cffi-1.16.0-cp311-cp311-manylinux_2_17_x86_64.manylinux2014_x86_64.whl.metadata (1.5 kB)\n",
      "Collecting pycparser (from cffi)\n",
      "  Using cached pycparser-2.22-py3-none-any.whl.metadata (943 bytes)\n",
      "Using cached cffi-1.16.0-cp311-cp311-manylinux_2_17_x86_64.manylinux2014_x86_64.whl (464 kB)\n",
      "Using cached pycparser-2.22-py3-none-any.whl (117 kB)\n",
      "Installing collected packages: pycparser, cffi\n",
      "  Attempting uninstall: pycparser\n",
      "    Found existing installation: pycparser 2.22\n",
      "    Uninstalling pycparser-2.22:\n",
      "      Successfully uninstalled pycparser-2.22\n",
      "  Attempting uninstall: cffi\n",
      "    Found existing installation: cffi 1.16.0\n",
      "    Uninstalling cffi-1.16.0:\n",
      "      Successfully uninstalled cffi-1.16.0\n",
      "Successfully installed cffi-1.16.0 pycparser-2.22\n"
     ]
    }
   ],
   "source": [
    "!pip install --upgrade --force-reinstall cffi"
   ]
  },
  {
   "cell_type": "code",
   "execution_count": 2,
   "id": "6854298a-9e9a-4e1b-a10a-c50ad71f8806",
   "metadata": {},
   "outputs": [],
   "source": [
    "#pip install cffi==1.16.0"
   ]
  },
  {
   "cell_type": "code",
   "execution_count": 3,
   "id": "c52ad68a-563d-4f2e-81ec-8aae8a3c93a1",
   "metadata": {},
   "outputs": [
    {
     "name": "stdout",
     "output_type": "stream",
     "text": [
      "Defaulting to user installation because normal site-packages is not writeable\n",
      "Requirement already satisfied: pyreaddbc in /home/nandaoc/.local/lib/python3.10/site-packages (1.2.0)\n",
      "Requirement already satisfied: cffi<2,>=1.15.1 in /home/nandaoc/.local/lib/python3.10/site-packages (from pyreaddbc) (1.16.0)\n",
      "Requirement already satisfied: dbfread<3,>=2.0.7 in /home/nandaoc/.local/lib/python3.10/site-packages (from pyreaddbc) (2.0.7)\n",
      "Requirement already satisfied: pyyaml>=6 in /home/nandaoc/.local/lib/python3.10/site-packages (from pyreaddbc) (6.0.1)\n",
      "Requirement already satisfied: tqdm<5,>=4.64.0 in /home/nandaoc/.local/lib/python3.10/site-packages (from pyreaddbc) (4.66.2)\n",
      "Requirement already satisfied: pycparser in /home/nandaoc/.local/lib/python3.10/site-packages (from cffi<2,>=1.15.1->pyreaddbc) (2.22)\n",
      "Note: you may need to restart the kernel to use updated packages.\n"
     ]
    }
   ],
   "source": [
    "pip install pyreaddbc"
   ]
  },
  {
   "cell_type": "code",
   "execution_count": 4,
   "id": "4ce411d9-59a2-4995-abaa-8aa6267e8670",
   "metadata": {},
   "outputs": [
    {
     "name": "stdout",
     "output_type": "stream",
     "text": [
      "Defaulting to user installation because normal site-packages is not writeable\n",
      "Requirement already satisfied: dbfread in /home/nandaoc/.local/lib/python3.10/site-packages (2.0.7)\n",
      "Note: you may need to restart the kernel to use updated packages.\n"
     ]
    }
   ],
   "source": [
    "pip install dbfread"
   ]
  },
  {
   "cell_type": "code",
   "execution_count": 2,
   "id": "3fe0c159-f422-4ec7-85f2-b79dcc4e383c",
   "metadata": {},
   "outputs": [],
   "source": [
    "from platform import python_version\n",
    "from selenium import webdriver\n",
    "import sys\n",
    "import cffi\n",
    "import pyreaddbc\n",
    "from dbfread import DBF\n",
    "import pandas as pd\n",
    "import itertools"
   ]
  },
  {
   "cell_type": "code",
   "execution_count": 6,
   "id": "9b72a96b-f902-4fd6-9e2f-8801dd505544",
   "metadata": {},
   "outputs": [
    {
     "name": "stdout",
     "output_type": "stream",
     "text": [
      "3.10.12\n"
     ]
    }
   ],
   "source": [
    "print(python_version())"
   ]
  },
  {
   "cell_type": "code",
   "execution_count": 7,
   "id": "1acde7ad-6fd8-4035-a192-002d2a76d560",
   "metadata": {},
   "outputs": [
    {
     "data": {
      "text/plain": [
       "'/usr/bin/python3.10'"
      ]
     },
     "execution_count": 7,
     "metadata": {},
     "output_type": "execute_result"
    }
   ],
   "source": [
    "sys.executable"
   ]
  },
  {
   "cell_type": "code",
   "execution_count": 8,
   "id": "6f88df98-2ca8-4d59-8b05-aebe4e8aba72",
   "metadata": {},
   "outputs": [
    {
     "name": "stdout",
     "output_type": "stream",
     "text": [
      "/home/nandaoc/.local/lib/python3.10/site-packages/cffi/__init__.py\n"
     ]
    }
   ],
   "source": [
    "print(cffi.__file__)"
   ]
  },
  {
   "cell_type": "code",
   "execution_count": 9,
   "id": "0c0d30ed-4985-464a-bee5-91c389f45ef1",
   "metadata": {},
   "outputs": [
    {
     "name": "stdout",
     "output_type": "stream",
     "text": [
      "1.16.0\n"
     ]
    }
   ],
   "source": [
    "import cffi\n",
    "print(cffi.__version__)"
   ]
  },
  {
   "cell_type": "markdown",
   "id": "e0d98fc5-1e6d-443e-844f-f3c140f90101",
   "metadata": {},
   "source": [
    "## Scraper - extraindo dados da plataforma"
   ]
  },
  {
   "cell_type": "code",
   "execution_count": 3,
   "id": "d11730e1-1cb5-4737-818b-abf663d47f85",
   "metadata": {},
   "outputs": [
    {
     "data": {
      "text/plain": [
       "'4.21.0'"
      ]
     },
     "execution_count": 3,
     "metadata": {},
     "output_type": "execute_result"
    }
   ],
   "source": [
    "import selenium\n",
    "selenium.__version__"
   ]
  },
  {
   "cell_type": "markdown",
   "id": "ebdbeb11-1e1e-4793-9147-2e3cfb9dcfab",
   "metadata": {},
   "source": [
    "## Criando DataFrame"
   ]
  },
  {
   "cell_type": "code",
   "execution_count": 132,
   "id": "f5f9d48d-712b-4ee1-a42b-3eee86e991b9",
   "metadata": {},
   "outputs": [],
   "source": [
    "lista_linhas = []"
   ]
  },
  {
   "cell_type": "code",
   "execution_count": 108,
   "id": "6fc3b98a-8b00-441f-b6ec-31ff4e797999",
   "metadata": {},
   "outputs": [],
   "source": [
    "def cria_dbf(caminho_dbc, caminho_dbf):\n",
    "    # Converte dbc em dbf e salva em um diretório - não te retorno\n",
    "    arquivo_dbf = pyreaddbc.dbc2dbf(caminho_dbc, caminho_dbf)\n",
    "    # Converte o arquivo dbf em um objeto iterável\n",
    "    tabela_dbf = DBF(caminho_dbf)\n",
    "\n",
    "    return tabela_dbf"
   ]
  },
  {
   "cell_type": "code",
   "execution_count": 133,
   "id": "9d31c897-d38e-4ba2-9e0b-c559849fcce1",
   "metadata": {},
   "outputs": [],
   "source": [
    "def cria_linhas_dados(tabela_dbf):\n",
    "    i = 0\n",
    "    iter_tabela_dbf = iter(tabela_dbf)\n",
    "    iter_tbdbf1, iter_tbdbf2 = itertools.tee(iter_tabela_dbf)\n",
    "\n",
    "    for itens in iter_tbdbf2:\n",
    "        linha_dataframe = {}\n",
    "        for item in itens:\n",
    "            linha_dataframe[item] = itens[item]\n",
    "        lista_linhas.append(linha_dataframe)\n",
    "       \n",
    "        i+=1"
   ]
  },
  {
   "cell_type": "code",
   "execution_count": 134,
   "id": "5c45213d-d96a-435e-9a5a-803a6914bf0e",
   "metadata": {},
   "outputs": [],
   "source": [
    "def cria_dataframe(dados):\n",
    "    df_leitos = pd.DataFrame(dados)\n",
    "\n",
    "    return df_leitos"
   ]
  },
  {
   "cell_type": "code",
   "execution_count": 135,
   "id": "11ed3045-19cd-40ef-a6d9-291b2cbda3ec",
   "metadata": {},
   "outputs": [],
   "source": [
    "tb_dbf = cria_dbf(\"/home/nandaoc/Downloads/leitos/LTAC2301.dbc\", \"/home/nandaoc/Downloads/leitos/LTAC2301.dbf\")"
   ]
  },
  {
   "cell_type": "code",
   "execution_count": 136,
   "id": "9ea9458e-7a27-493c-bd20-d7614f333463",
   "metadata": {},
   "outputs": [],
   "source": [
    "cria_linhas_dados(tb_dbf)"
   ]
  },
  {
   "cell_type": "code",
   "execution_count": 138,
   "id": "d43db239-27c9-42a7-8569-58bc3689ab8c",
   "metadata": {},
   "outputs": [
    {
     "data": {
      "text/html": [
       "<div>\n",
       "<style scoped>\n",
       "    .dataframe tbody tr th:only-of-type {\n",
       "        vertical-align: middle;\n",
       "    }\n",
       "\n",
       "    .dataframe tbody tr th {\n",
       "        vertical-align: top;\n",
       "    }\n",
       "\n",
       "    .dataframe thead th {\n",
       "        text-align: right;\n",
       "    }\n",
       "</style>\n",
       "<table border=\"1\" class=\"dataframe\">\n",
       "  <thead>\n",
       "    <tr style=\"text-align: right;\">\n",
       "      <th></th>\n",
       "      <th>CNES</th>\n",
       "      <th>CODUFMUN</th>\n",
       "      <th>REGSAUDE</th>\n",
       "      <th>MICR_REG</th>\n",
       "      <th>DISTRSAN</th>\n",
       "      <th>DISTRADM</th>\n",
       "      <th>TPGESTAO</th>\n",
       "      <th>PF_PJ</th>\n",
       "      <th>CPF_CNPJ</th>\n",
       "      <th>NIV_DEP</th>\n",
       "      <th>...</th>\n",
       "      <th>NIV_HIER</th>\n",
       "      <th>TERCEIRO</th>\n",
       "      <th>TP_LEITO</th>\n",
       "      <th>CODLEITO</th>\n",
       "      <th>QT_EXIST</th>\n",
       "      <th>QT_CONTR</th>\n",
       "      <th>QT_SUS</th>\n",
       "      <th>QT_NSUS</th>\n",
       "      <th>COMPETEN</th>\n",
       "      <th>NAT_JUR</th>\n",
       "    </tr>\n",
       "  </thead>\n",
       "  <tbody>\n",
       "    <tr>\n",
       "      <th>0</th>\n",
       "      <td>5701929</td>\n",
       "      <td>120001</td>\n",
       "      <td>001</td>\n",
       "      <td></td>\n",
       "      <td></td>\n",
       "      <td></td>\n",
       "      <td>E</td>\n",
       "      <td>3</td>\n",
       "      <td>00000000000000</td>\n",
       "      <td>3</td>\n",
       "      <td>...</td>\n",
       "      <td></td>\n",
       "      <td></td>\n",
       "      <td>5</td>\n",
       "      <td>45</td>\n",
       "      <td>2</td>\n",
       "      <td>0</td>\n",
       "      <td>2</td>\n",
       "      <td>0</td>\n",
       "      <td>202301</td>\n",
       "      <td>1023</td>\n",
       "    </tr>\n",
       "    <tr>\n",
       "      <th>1</th>\n",
       "      <td>5701929</td>\n",
       "      <td>120001</td>\n",
       "      <td>001</td>\n",
       "      <td></td>\n",
       "      <td></td>\n",
       "      <td></td>\n",
       "      <td>E</td>\n",
       "      <td>3</td>\n",
       "      <td>00000000000000</td>\n",
       "      <td>3</td>\n",
       "      <td>...</td>\n",
       "      <td></td>\n",
       "      <td></td>\n",
       "      <td>2</td>\n",
       "      <td>33</td>\n",
       "      <td>3</td>\n",
       "      <td>0</td>\n",
       "      <td>3</td>\n",
       "      <td>0</td>\n",
       "      <td>202301</td>\n",
       "      <td>1023</td>\n",
       "    </tr>\n",
       "    <tr>\n",
       "      <th>2</th>\n",
       "      <td>5701929</td>\n",
       "      <td>120001</td>\n",
       "      <td>001</td>\n",
       "      <td></td>\n",
       "      <td></td>\n",
       "      <td></td>\n",
       "      <td>E</td>\n",
       "      <td>3</td>\n",
       "      <td>00000000000000</td>\n",
       "      <td>3</td>\n",
       "      <td>...</td>\n",
       "      <td></td>\n",
       "      <td></td>\n",
       "      <td>4</td>\n",
       "      <td>43</td>\n",
       "      <td>1</td>\n",
       "      <td>0</td>\n",
       "      <td>1</td>\n",
       "      <td>0</td>\n",
       "      <td>202301</td>\n",
       "      <td>1023</td>\n",
       "    </tr>\n",
       "    <tr>\n",
       "      <th>3</th>\n",
       "      <td>5701929</td>\n",
       "      <td>120001</td>\n",
       "      <td>001</td>\n",
       "      <td></td>\n",
       "      <td></td>\n",
       "      <td></td>\n",
       "      <td>E</td>\n",
       "      <td>3</td>\n",
       "      <td>00000000000000</td>\n",
       "      <td>3</td>\n",
       "      <td>...</td>\n",
       "      <td></td>\n",
       "      <td></td>\n",
       "      <td>6</td>\n",
       "      <td>47</td>\n",
       "      <td>1</td>\n",
       "      <td>0</td>\n",
       "      <td>1</td>\n",
       "      <td>0</td>\n",
       "      <td>202301</td>\n",
       "      <td>1023</td>\n",
       "    </tr>\n",
       "    <tr>\n",
       "      <th>4</th>\n",
       "      <td>2001020</td>\n",
       "      <td>120005</td>\n",
       "      <td>002</td>\n",
       "      <td></td>\n",
       "      <td></td>\n",
       "      <td></td>\n",
       "      <td>E</td>\n",
       "      <td>3</td>\n",
       "      <td>04034526001034</td>\n",
       "      <td>3</td>\n",
       "      <td>...</td>\n",
       "      <td></td>\n",
       "      <td></td>\n",
       "      <td>4</td>\n",
       "      <td>43</td>\n",
       "      <td>2</td>\n",
       "      <td>0</td>\n",
       "      <td>2</td>\n",
       "      <td>0</td>\n",
       "      <td>202301</td>\n",
       "      <td>1023</td>\n",
       "    </tr>\n",
       "  </tbody>\n",
       "</table>\n",
       "<p>5 rows × 28 columns</p>\n",
       "</div>"
      ],
      "text/plain": [
       "      CNES CODUFMUN REGSAUDE MICR_REG DISTRSAN DISTRADM TPGESTAO PF_PJ  \\\n",
       "0  5701929   120001      001                                   E     3   \n",
       "1  5701929   120001      001                                   E     3   \n",
       "2  5701929   120001      001                                   E     3   \n",
       "3  5701929   120001      001                                   E     3   \n",
       "4  2001020   120005      002                                   E     3   \n",
       "\n",
       "         CPF_CNPJ NIV_DEP  ... NIV_HIER TERCEIRO TP_LEITO CODLEITO QT_EXIST  \\\n",
       "0  00000000000000       3  ...                          5       45        2   \n",
       "1  00000000000000       3  ...                          2       33        3   \n",
       "2  00000000000000       3  ...                          4       43        1   \n",
       "3  00000000000000       3  ...                          6       47        1   \n",
       "4  04034526001034       3  ...                          4       43        2   \n",
       "\n",
       "  QT_CONTR QT_SUS QT_NSUS COMPETEN NAT_JUR  \n",
       "0        0      2       0   202301    1023  \n",
       "1        0      3       0   202301    1023  \n",
       "2        0      1       0   202301    1023  \n",
       "3        0      1       0   202301    1023  \n",
       "4        0      2       0   202301    1023  \n",
       "\n",
       "[5 rows x 28 columns]"
      ]
     },
     "execution_count": 138,
     "metadata": {},
     "output_type": "execute_result"
    }
   ],
   "source": [
    "df = cria_dataframe(lista_linhas)\n",
    "df.head()"
   ]
  },
  {
   "cell_type": "markdown",
   "id": "4c03016b-628a-47e2-a487-df38996d1fd0",
   "metadata": {},
   "source": [
    "## Persistindo dados"
   ]
  },
  {
   "cell_type": "code",
   "execution_count": null,
   "id": "f527b531-dfa2-4dbd-8dbf-672ec66aeaef",
   "metadata": {},
   "outputs": [],
   "source": []
  }
 ],
 "metadata": {
  "kernelspec": {
   "display_name": "python3.10",
   "language": "python",
   "name": "python3.10"
  },
  "language_info": {
   "codemirror_mode": {
    "name": "ipython",
    "version": 3
   },
   "file_extension": ".py",
   "mimetype": "text/x-python",
   "name": "python",
   "nbconvert_exporter": "python",
   "pygments_lexer": "ipython3",
   "version": "3.10.12"
  }
 },
 "nbformat": 4,
 "nbformat_minor": 5
}
